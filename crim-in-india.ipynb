{
 "cells": [
  {
   "cell_type": "code",
   "execution_count": null,
   "metadata": {},
   "outputs": [],
   "source": []
  },
  {
   "cell_type": "code",
   "execution_count": null,
   "metadata": {},
   "outputs": [],
   "source": [
    "pip install matplotlib seaborn ipywidgets pandas plotly==4.6.0 --upgrade --quiet"
   ]
  },
  {
   "cell_type": "code",
   "execution_count": null,
   "metadata": {},
   "outputs": [],
   "source": [
    "#!jupyter nbextension enable --py widgetsnbextension\n",
    "!jupyter nbextension enable --py widgetsnbextension --sys-prefix"
   ]
  },
  {
   "cell_type": "code",
   "execution_count": null,
   "metadata": {},
   "outputs": [],
   "source": [
    "\n",
    "import pandas as pd\n",
    "import matplotlib\n",
    "import matplotlib.pyplot as plt\n",
    "import seaborn as sns\n",
    "from IPython.display import display\n",
    "import ipywidgets as widgets\n",
    "import json\n",
    "import plotly.express as px\n",
    "import numpy as np\n",
    "%matplotlib inline\n",
    "%matplotlib nbagg\n",
    "sns.set_style('darkgrid')\n",
    "matplotlib.rcParams['font.size'] = 14\n",
    "matplotlib.rcParams['figure.figsize'] = (9, 5)\n",
    "matplotlib.rcParams['figure.facecolor'] = '#00000000'"
   ]
  },
  {
   "cell_type": "code",
   "execution_count": null,
   "metadata": {},
   "outputs": [],
   "source": [
    "slider = widgets.IntSlider(\n",
    "    min=0,\n",
    "    max=10,\n",
    "    step=1,\n",
    "    description='Slider:',\n",
    "    value=3\n",
    ")\n",
    "display(slider)\n",
    "amp = widgets.FloatSlider(min=1, max=10, value=1,description=\"Amp\")\n",
    "display(amp)"
   ]
  },
  {
   "cell_type": "code",
   "execution_count": null,
   "metadata": {},
   "outputs": [],
   "source": [
    "district_wise_crimes_df_raw = pd.read_csv(\"District_wise_crimes_committed_IPC_2001_2012.csv\")"
   ]
  },
  {
   "cell_type": "code",
   "execution_count": null,
   "metadata": {},
   "outputs": [],
   "source": [
    "district_wise_crimes_df = district_wise_crimes_df_raw.copy()"
   ]
  },
  {
   "cell_type": "code",
   "execution_count": null,
   "metadata": {},
   "outputs": [],
   "source": [
    "district_wise_crimes_df"
   ]
  },
  {
   "cell_type": "code",
   "execution_count": null,
   "metadata": {},
   "outputs": [],
   "source": [
    "#From the data we can analysis that rape = custodial rape + other rape\n",
    "#So we can skip custodial rape and other rape and can directly use rape column\n",
    "\n",
    "#lets look into other colums\n",
    "list(district_wise_crimes_df.columns)"
   ]
  },
  {
   "cell_type": "code",
   "execution_count": null,
   "metadata": {},
   "outputs": [],
   "source": [
    "#From column names we can suspect sum columns are just sum of different columns\n",
    "#Analysing colums THEFT, RAPE, KIDNAPPING AND ABDUCTION OF OTHERS\n",
    "district_wise_crimes_df[['THEFT','AUTO THEFT','OTHER THEFT', 'KIDNAPPING & ABDUCTION',\n",
    " 'KIDNAPPING AND ABDUCTION OF WOMEN AND GIRLS','KIDNAPPING AND ABDUCTION OF OTHERS','RAPE',\n",
    " 'CUSTODIAL RAPE','OTHER RAPE']]\n"
   ]
  },
  {
   "cell_type": "code",
   "execution_count": null,
   "metadata": {},
   "outputs": [],
   "source": [
    "#from above data we can conclude \n",
    "# THEFT = AUTO THEFT + OTHER THEFT\n",
    "# KIDNAPPING & ABDUCTION =KIDNAPPING AND ABDUCTION OF WOMEN AND GIRLS + KIDNAPPING AND ABDUCTION OF OTHERS\n",
    "\n",
    "#Lets analyze deeply into rape columns\n",
    "district_wise_crimes_df['CUSTODIAL RAPE'].unique()"
   ]
  },
  {
   "cell_type": "code",
   "execution_count": null,
   "metadata": {},
   "outputs": [],
   "source": [
    "district_wise_crimes_df[district_wise_crimes_df['CUSTODIAL RAPE'] != 0][['RAPE','CUSTODIAL RAPE','OTHER RAPE']]"
   ]
  },
  {
   "cell_type": "code",
   "execution_count": null,
   "metadata": {},
   "outputs": [],
   "source": [
    "#Thus we can conclude RAPE = CUSTODIAL RAPE + OTHER RAPE\n",
    "\n",
    "#Till now \n",
    "# THEFT = AUTO THEFT + OTHER THEFT\n",
    "# KIDNAPPING & ABDUCTION =KIDNAPPING AND ABDUCTION OF WOMEN AND GIRLS + KIDNAPPING AND ABDUCTION OF OTHERS\n",
    "#RAPE = CUSTODIAL RAPE + OTHER RAPE\n",
    "\n",
    "''' 'KIDNAPPING AND ABDUCTION OF WOMEN AND GIRLS'\n",
    "    'DOWRY DEATHS',\n",
    "    'ASSAULT ON WOMEN WITH INTENT TO OUTRAGE HER MODESTY',\n",
    "    'INSULT TO MODESTY OF WOMEN',\n",
    "    'CRUELTY BY HUSBAND OR HIS RELATIVES',\n",
    "    'IMPORTATION OF GIRLS FROM FOREIGN COUNTRIES',\n",
    "    'RAPE'\n",
    "'''\n",
    "#Lets sum all these columns into one column 'CRIME AGAINST WOMEN'all these columns will be analyzed in depth as we move forward\n",
    "district_wise_crimes_df['CRIME AGAINST WOMEN'] = district_wise_crimes_df['KIDNAPPING AND ABDUCTION OF WOMEN AND GIRLS']+district_wise_crimes_df['DOWRY DEATHS']+district_wise_crimes_df['ASSAULT ON WOMEN WITH INTENT TO OUTRAGE HER MODESTY']+district_wise_crimes_df['CRUELTY BY HUSBAND OR HIS RELATIVES']+district_wise_crimes_df['RAPE']+district_wise_crimes_df['IMPORTATION OF GIRLS FROM FOREIGN COUNTRIES']+district_wise_crimes_df['INSULT TO MODESTY OF WOMEN']\n",
    "    \n"
   ]
  },
  {
   "cell_type": "code",
   "execution_count": null,
   "metadata": {},
   "outputs": [],
   "source": [
    "#So now we can avoid the below columns\n",
    "merged_columns = [ 'AUTO THEFT','OTHER THEFT','KIDNAPPING AND ABDUCTION OF WOMEN AND GIRLS','KIDNAPPING & ABDUCTION',\n",
    "    'DOWRY DEATHS',\n",
    "    'ASSAULT ON WOMEN WITH INTENT TO OUTRAGE HER MODESTY',\n",
    "    'INSULT TO MODESTY OF WOMEN',\n",
    "    'CRUELTY BY HUSBAND OR HIS RELATIVES',\n",
    "    'IMPORTATION OF GIRLS FROM FOREIGN COUNTRIES','RAPE','CUSTODIAL RAPE','OTHER RAPE']\n",
    "\n"
   ]
  },
  {
   "cell_type": "code",
   "execution_count": null,
   "metadata": {},
   "outputs": [],
   "source": [
    "sate_wise_crimes_df = district_wise_crimes_df.groupby(['STATE/UT','YEAR']).sum().copy()"
   ]
  },
  {
   "cell_type": "code",
   "execution_count": null,
   "metadata": {},
   "outputs": [],
   "source": [
    "district_wise_crimes_df.shape"
   ]
  },
  {
   "cell_type": "code",
   "execution_count": null,
   "metadata": {},
   "outputs": [],
   "source": [
    "sate_wise_crimes_df.drop(columns=merged_columns, inplace=True)"
   ]
  },
  {
   "cell_type": "code",
   "execution_count": null,
   "metadata": {},
   "outputs": [],
   "source": [
    "sate_wise_crimes_df"
   ]
  },
  {
   "cell_type": "code",
   "execution_count": null,
   "metadata": {},
   "outputs": [],
   "source": [
    "col = list(sate_wise_crimes_df.columns)\n",
    "col.remove(\"TOTAL IPC CRIMES\")\n",
    "col"
   ]
  },
  {
   "cell_type": "code",
   "execution_count": null,
   "metadata": {},
   "outputs": [],
   "source": [
    "#From the data we can analysis that rape = custodial rape + other rape"
   ]
  },
  {
   "cell_type": "code",
   "execution_count": null,
   "metadata": {},
   "outputs": [],
   "source": [
    "def variation_over_years(state_names,crime_categories,state,crime, fig_size):\n",
    "    plt.figure(figsize=fig_size)\n",
    "    plt.xticks(rotation=75)\n",
    "    for state_name in state_names:\n",
    "        IPC_CRIMES = sate_wise_crimes_df.loc[(state_name,)][crime_categories]\n",
    "        plt.plot(IPC_CRIMES.index, IPC_CRIMES, 's-')\n",
    "    if state:\n",
    "        plt.legend(state_names)\n",
    "    else :\n",
    "        plt.legend(crime_categories)\n",
    "    return IPC_CRIMES"
   ]
  },
  {
   "cell_type": "code",
   "execution_count": null,
   "metadata": {},
   "outputs": [],
   "source": [
    "total_crimes_all_yrs = district_wise_crimes_df.groupby('STATE/UT')['TOTAL IPC CRIMES'].sum().sort_values(ascending = False)\n",
    "\n",
    "\n",
    "#.sort_values('TOTAL IPC CRIMES', ascending=False)\n",
    "total_crimes_all_yrs"
   ]
  },
  {
   "cell_type": "code",
   "execution_count": null,
   "metadata": {},
   "outputs": [],
   "source": [
    "variation_over_years(list(total_crimes_all_yrs.head(10).index),['TOTAL IPC CRIMES'],True,False, (12,10));"
   ]
  },
  {
   "cell_type": "code",
   "execution_count": null,
   "metadata": {},
   "outputs": [],
   "source": [
    "col = list(sate_wise_crimes_df.sum().sort_values(ascending = False).index)\n",
    "col.remove(\"TOTAL IPC CRIMES\")\n",
    "#as we dont have specific data regarding OTHER IPC CRIMES lets not consider it andd focus on specifics\n",
    "col.remove(\"OTHER IPC CRIMES\")\n",
    "inidividual_toltal_of_crimes = sate_wise_crimes_df.sum()\n",
    "inidividual_toltal_of_crimes[col]"
   ]
  },
  {
   "cell_type": "code",
   "execution_count": null,
   "metadata": {},
   "outputs": [],
   "source": [
    "plt.figure(figsize=(12,6))\n",
    "plt.title(\"TOTAL CRIMES\")\n",
    "plt.ylabel('CRIMES');\n",
    "plt.xlabel('NUMBER OF CRIMES (IN THOUSANDS)');\n",
    "#plt.yticks(rotation=75)\n",
    "sns.barplot(list(inidividual_toltal_of_crimes[col].values),col);"
   ]
  },
  {
   "cell_type": "code",
   "execution_count": null,
   "metadata": {},
   "outputs": [],
   "source": [
    "year_wise_crimes = district_wise_crimes_df.groupby('YEAR').sum().copy()\n",
    "year_wise_crimes.drop(columns=merged_columns, inplace=True)\n",
    "year_wise_crimes.drop(columns='TOTAL IPC CRIMES', inplace=True)\n",
    "year_wise_crimes.drop(columns='OTHER IPC CRIMES', inplace=True)\n",
    "cols = list(year_wise_crimes.columns)\n",
    "for col_name in cols:\n",
    "    year_wise_crimes[col_name] = year_wise_crimes[col_name].apply(lambda x : int(x/1000))\n",
    "year_wise_crimes.shape"
   ]
  },
  {
   "cell_type": "code",
   "execution_count": null,
   "metadata": {},
   "outputs": [],
   "source": [
    "plt.figure(figsize=(12,6))\n",
    "plt.title(\"YEAR-WISE CRIMES (IN THOUSANDS)\")\n",
    "sns.heatmap(year_wise_crimes, fmt=\"d\", annot=True, cmap='Blues');"
   ]
  },
  {
   "cell_type": "code",
   "execution_count": null,
   "metadata": {},
   "outputs": [],
   "source": [
    "#LETS SEE WHICH CRIME IS HIGHEST IN WHICH STATE\n",
    "only_state_wise_crimes = district_wise_crimes_df.groupby('STATE/UT').sum().copy()\n",
    "only_state_wise_crimes.drop(columns=merged_columns, inplace=True)\n",
    "only_state_wise_crimes.drop(columns='TOTAL IPC CRIMES', inplace=True)\n",
    "only_state_wise_crimes.drop(columns='OTHER IPC CRIMES', inplace=True)\n",
    "only_state_wise_crimes.drop(columns='YEAR', inplace=True)\n",
    "cols = list(only_state_wise_crimes.columns)\n",
    "for col_name in cols:\n",
    "   only_state_wise_crimes[col_name] = only_state_wise_crimes[col_name].apply(lambda x : int(x/1000))\n",
    "only_state_wise_crimes.shape"
   ]
  },
  {
   "cell_type": "code",
   "execution_count": null,
   "metadata": {},
   "outputs": [],
   "source": [
    "plt.figure(figsize=(12,10))\n",
    "plt.title(\"STATE-WISE CRIMES (IN THOUSANDS)\")\n",
    "sns.heatmap(only_state_wise_crimes, fmt=\"d\", annot=True, cmap='Blues');\n",
    "#sns.heatmap(only_state_wise_crimes, fmt=\"d\", annot=True);"
   ]
  },
  {
   "cell_type": "code",
   "execution_count": null,
   "metadata": {},
   "outputs": [],
   "source": [
    "#LETS SEE VARIATION IN TOP 10 CRIMES IN STATE HAVING HIGHEST CRIMES EVERY YEAR (MADHYA PRADESH)\n",
    "\n",
    "col = list(sate_wise_crimes_df.sum().sort_values(ascending = False).head(12).index)\n",
    "col.remove(\"TOTAL IPC CRIMES\")\n",
    "#as we dont have specific data regarding OTHER IPC CRIMES lets not consider it andd focus on specifics\n",
    "col.remove(\"OTHER IPC CRIMES\")\n",
    "variation_over_years(['MADHYA PRADESH'],col,False,True, (18,10));"
   ]
  },
  {
   "cell_type": "code",
   "execution_count": null,
   "metadata": {},
   "outputs": [],
   "source": [
    "district_wise_crimes_df.groupby('STATE/UT').sum()"
   ]
  },
  {
   "cell_type": "code",
   "execution_count": null,
   "metadata": {},
   "outputs": [],
   "source": [
    "# india_states = json.load(open('states_india.geojson','r'))"
   ]
  },
  {
   "cell_type": "code",
   "execution_count": null,
   "metadata": {},
   "outputs": [],
   "source": [
    "# state_id_map = {}\n",
    "# for feature in india_states['features']:\n",
    "#     feature['id'] = feature['properties']['state_code']\n",
    "#     state_id_map[feature['properties']['st_nm'].upper()] = feature['id']\n",
    "# state_id_map"
   ]
  },
  {
   "cell_type": "code",
   "execution_count": null,
   "metadata": {},
   "outputs": [],
   "source": [
    "# df_geo_map = only_state_wise_crimes.copy()\n",
    "# l= []\n",
    "# c=0\n",
    "# for x in df_geo_map.index:\n",
    "#     if x in state_id_map:\n",
    "#         c= c+1\n",
    "#     else : \n",
    "#         l.append(x)\n",
    "# l"
   ]
  },
  {
   "cell_type": "code",
   "execution_count": null,
   "metadata": {},
   "outputs": [],
   "source": [
    "# len(list(df_geo_map.index))"
   ]
  },
  {
   "cell_type": "code",
   "execution_count": null,
   "metadata": {},
   "outputs": [],
   "source": [
    "# l2= []\n",
    "# c=0\n",
    "# for x in df_geo_map.index:\n",
    "#     if x in state_id_map:\n",
    "#         l2.append(state_id_map[x])\n",
    "#     elif x == 'A & N ISLANDS':\n",
    "#         l2.append(35)\n",
    "#     elif x == 'ARUNACHAL PRADESH':\n",
    "#         l2.append(12)\n",
    "#     elif x == 'D & N HAVELI':\n",
    "#         l2.append(26)\n",
    "#     elif x == 'DELHI UT':\n",
    "#         l2.append(7)\n",
    "#     else :\n",
    "#         print(x)\n",
    "        \n",
    "# df_geo_map['id'] = l2      "
   ]
  },
  {
   "cell_type": "code",
   "execution_count": null,
   "metadata": {},
   "outputs": [],
   "source": [
    "# df_geo_map"
   ]
  },
  {
   "cell_type": "code",
   "execution_count": null,
   "metadata": {},
   "outputs": [],
   "source": [
    "# fig = px.choropleth(df_geo_map, locations = 'id', \n",
    "#                     geojson=india_states, \n",
    "#                     color='THEFT',\n",
    "#                     hover_data =['THEFT'] )\n",
    "# fig.update_geos(fitbounds=\"locations\", visible = False)\n",
    "# fig.update_layout(margin=dict(l=0, r=0, b=0, t=0))\n",
    "# fig.show()"
   ]
  },
  {
   "cell_type": "code",
   "execution_count": null,
   "metadata": {},
   "outputs": [],
   "source": []
  },
  {
   "cell_type": "code",
   "execution_count": null,
   "metadata": {
    "scrolled": false
   },
   "outputs": [],
   "source": [
    "from ipywidgets import Layout\n",
    "dp = widgets.Dropdown(\n",
    "    options=list(district_wise_crimes_df['STATE/UT'].unique()),\n",
    "    value='MAHARASHTRA',\n",
    "    description='STATE:',\n",
    "    disabled=False,\n",
    "    layout=Layout(display='inline-flex')\n",
    ")\n",
    "\n",
    "crime_list = list(sate_wise_crimes_df.columns)\n",
    "crime_list.remove('TOTAL IPC CRIMES')\n",
    "crime_list.remove('OTHER IPC CRIMES')\n",
    "\n",
    "ds = widgets.SelectMultiple(\n",
    "    options=crime_list,\n",
    "    value=col,\n",
    "    rows=4,\n",
    "    description='CRIMES',\n",
    "    disabled=False,\n",
    "    layout=Layout(display='inline-flex')\n",
    ")\n",
    "\n",
    "def sq(state, crimes):\n",
    "    crimes = list(crimes)\n",
    "    variation_over_years([state],list(crimes),False,True, (18,10));\n",
    "\n",
    "\n",
    "    \n",
    "widgets.interact(sq, state=dp,crimes = ds);\n"
   ]
  },
  {
   "cell_type": "code",
   "execution_count": null,
   "metadata": {},
   "outputs": [],
   "source": [
    "# selected_crimes = widgets.SelectMultiple(\n",
    "#     options=crime_list,\n",
    "#     value=col,\n",
    "#     rows=6,\n",
    "#     description='CRIMES',\n",
    "#     disabled=False,\n",
    "#     layout=Layout(display='inline-flex')\n",
    "# )\n",
    "\n",
    "selected_crimes = widgets.Dropdown(\n",
    "    options=crime_list,\n",
    "    value='CRIME AGAINST WOMEN',\n",
    "    description='CRIME',\n",
    "    disabled=False,\n",
    "    layout=Layout(display='inline-flex')\n",
    ")\n",
    "\n",
    "selected_states = widgets.SelectMultiple(\n",
    "    options=list(district_wise_crimes_df['STATE/UT'].unique()),\n",
    "    value=['MAHARASHTRA','MADHYA PRADESH', 'GOA', 'HARYANA','TAMIL NADU'],\n",
    "    rows=3,\n",
    "    description='STATES',\n",
    "    disabled=False,\n",
    "    layout=Layout(display='inline-flex')\n",
    ")\n",
    "\n",
    "# def display_comparison(states, crimes):\n",
    "#     crimes = list(crimes)\n",
    "#     states = list(states)\n",
    "#     if(len(crimes) > 5):\n",
    "#         print(\"YOU CAN SELECT ATMOST 5 CRIMES\")\n",
    "#         return\n",
    "#     variation_over_years(states,crimes,True,False, (18,10));\n",
    "\n",
    "def display_comparison(states, crimes):\n",
    "    states = list(states)\n",
    "    variation_over_years(states,[crimes],True,False, (18,10));\n",
    "    \n",
    "widgets.interact(display_comparison, states=selected_states,crimes = selected_crimes);"
   ]
  },
  {
   "cell_type": "code",
   "execution_count": null,
   "metadata": {},
   "outputs": [],
   "source": [
    "var = 'hi\"/n'\n",
    "var + 'bye'"
   ]
  },
  {
   "cell_type": "code",
   "execution_count": null,
   "metadata": {},
   "outputs": [],
   "source": []
  },
  {
   "cell_type": "code",
   "execution_count": null,
   "metadata": {},
   "outputs": [],
   "source": []
  },
  {
   "cell_type": "code",
   "execution_count": null,
   "metadata": {},
   "outputs": [],
   "source": []
  }
 ],
 "metadata": {
  "kernelspec": {
   "display_name": "Python 3",
   "language": "python",
   "name": "python3"
  },
  "language_info": {
   "codemirror_mode": {
    "name": "ipython",
    "version": 3
   },
   "file_extension": ".py",
   "mimetype": "text/x-python",
   "name": "python",
   "nbconvert_exporter": "python",
   "pygments_lexer": "ipython3",
   "version": "3.8.3"
  },
  "widgets": {
   "application/vnd.jupyter.widget-state+json": {
    "state": {
     "629805882f1348d8ab73a29e4da611bc": {
      "model_module": "@jupyter-widgets/controls",
      "model_module_version": "1.5.0",
      "model_name": "FloatSliderModel",
      "state": {
       "_model_module_version": "1.5.0",
       "_view_module_version": "1.5.0",
       "description": "Amp",
       "layout": "IPY_MODEL_c3dbd58d616345c5af19a2a7ff4590e7",
       "max": 10,
       "min": 1,
       "step": 0.1,
       "style": "IPY_MODEL_d9f044bc4c944b97b4d99812560076bc",
       "value": 1
      }
     },
     "c3dbd58d616345c5af19a2a7ff4590e7": {
      "model_module": "@jupyter-widgets/base",
      "model_module_version": "1.2.0",
      "model_name": "LayoutModel",
      "state": {
       "_model_module_version": "1.2.0",
       "_view_module_version": "1.2.0",
       "justify_items": null,
       "object_fit": null,
       "object_position": null
      }
     },
     "d9f044bc4c944b97b4d99812560076bc": {
      "model_module": "@jupyter-widgets/controls",
      "model_module_version": "1.5.0",
      "model_name": "SliderStyleModel",
      "state": {
       "_model_module_version": "1.5.0",
       "_view_module_version": "1.2.0",
       "description_width": ""
      }
     }
    },
    "version_major": 2,
    "version_minor": 0
   }
  }
 },
 "nbformat": 4,
 "nbformat_minor": 2
}
